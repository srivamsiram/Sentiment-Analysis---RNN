{
 "cells": [
  {
   "cell_type": "code",
   "execution_count": 39,
   "metadata": {
    "collapsed": true
   },
   "outputs": [],
   "source": [
    "#### Assignment1\n",
    "#### This script includes the implementation of the Decision tree for the Amazon Sentiment Analysis Dataset.\n",
    "#### It takes the following libararies - NLTK, pandas, numpy, string, matplotlib, scipy, sklearn.\n",
    "### @Author: Chaitanya Sri Krishna Lolla, Student ID: 800960353\n",
    "\n",
    "### Libraries.\n",
    "import pandas as pd\n",
    "import numpy as np\n",
    "import nltk\n",
    "import string\n",
    "%matplotlib inline\n",
    "import matplotlib.pyplot as plt\n",
    "import numpy as np\n",
    "import scipy.sparse as sparse\n",
    "\n",
    "from sklearn.feature_extraction.text import TfidfTransformer\n",
    "from sklearn.feature_extraction.text import CountVectorizer\n",
    "from sklearn.cross_validation import train_test_split\n",
    "from sklearn.metrics import confusion_matrix\n",
    "from sklearn import metrics\n",
    "from nltk.corpus import stopwords\n",
    "from sklearn.tree import DecisionTreeClassifier"
   ]
  },
  {
   "cell_type": "code",
   "execution_count": 40,
   "metadata": {
    "collapsed": false
   },
   "outputs": [
    {
     "data": {
      "text/plain": [
       "4.120430078052725"
      ]
     },
     "execution_count": 40,
     "metadata": {},
     "output_type": "execute_result"
    }
   ],
   "source": [
    "### Reading the Given Training Dataset.\n",
    "reviews = pd.read_csv('amazon_baby_train.csv')\n",
    "reviews.shape\n",
    "reviews = reviews.dropna()\n",
    "reviews.shape\n",
    "#print(reviews.head(25))\n",
    "\n",
    "### Converting the Training dataset to follow binary classification with only positive and negative.\n",
    "### Here the rating above three is considered positive and less than or equal to three are considered as negative cases.\n",
    "scores = reviews['rating']\n",
    "reviews['rating'] = reviews['rating'].apply(lambda x: 'pos' if x >= 3 else 'neg')\n",
    "#print(reviews.head(25))\n",
    "\n",
    "### Mean calculation of the Rating .\n",
    "scores.mean()"
   ]
  },
  {
   "cell_type": "code",
   "execution_count": 41,
   "metadata": {
    "collapsed": false
   },
   "outputs": [
    {
     "data": {
      "text/plain": [
       "rating\n",
       "neg     21089\n",
       "pos    124838\n",
       "Name: review, dtype: int64"
      ]
     },
     "execution_count": 41,
     "metadata": {},
     "output_type": "execute_result"
    }
   ],
   "source": [
    "### Distribution of the Ratings.\n",
    "reviews.groupby('rating')['review'].count()"
   ]
  },
  {
   "cell_type": "code",
   "execution_count": 42,
   "metadata": {
    "collapsed": false
   },
   "outputs": [
    {
     "data": {
      "text/plain": [
       "<matplotlib.axes._subplots.AxesSubplot at 0x20b4f8be5c0>"
      ]
     },
     "execution_count": 42,
     "metadata": {},
     "output_type": "execute_result"
    },
    {
     "data": {
      "image/png": "[encoded data removed]",
      "text/plain": [
       "<matplotlib.figure.Figure at 0x20b4e189438>"
      ]
     },
     "metadata": {},
     "output_type": "display_data"
    }
   ],
   "source": [
    "### Distribution plot of the Ratings.\n",
    "reviews.groupby('rating')['review'].count().plot(kind='bar', color= ['r','g'],title='Label Distribution',  figsize = (10,6))"
   ]
  },
  {
   "cell_type": "code",
   "execution_count": 43,
   "metadata": {
    "collapsed": true
   },
   "outputs": [],
   "source": [
    "### This function splits the rating into positive or negative and returns the indices of them in the given array.\n",
    "def splitPosNeg(Summaries):\n",
    "    neg = reviews.loc[Summaries['rating']== 'neg']\n",
    "    pos = reviews.loc[Summaries['rating']== 'pos']\n",
    "    return [pos,neg]\n",
    "    "
   ]
  },
  {
   "cell_type": "code",
   "execution_count": 44,
   "metadata": {
    "collapsed": true
   },
   "outputs": [],
   "source": [
    "[pos,neg] = splitPosNeg(reviews)"
   ]
  },
  {
   "cell_type": "code",
   "execution_count": 45,
   "metadata": {
    "collapsed": true
   },
   "outputs": [],
   "source": [
    "##This step includes pre processing of the review data with the NLP Tool kit .\n",
    "## This Lemmitizes (Noun, Verb etc of same word is considered as one word) the word\n",
    "## stems the unnecessary words removing the punctuation.\n",
    "\n",
    "#stemmer = PorterStemmer()\n",
    "lemmatizer = nltk.WordNetLemmatizer()\n",
    "stop = stopwords.words('english')\n",
    "translation = str.maketrans(string.punctuation,' '*len(string.punctuation))\n",
    "\n",
    "#filtered_words = [word for word in word_list if word not in stopwords.words('english')]\n",
    "\n",
    "def preprocessing(line):\n",
    "    tokens=[]\n",
    "    line = line.translate(translation)\n",
    "    line = nltk.word_tokenize(line.lower())\n",
    "    #line = [word for word in line if word not in stopwords.words('english')]\n",
    "    for t in line:\n",
    "        #if(t not in stop):\n",
    "            #stemmed = stemmer.stem(t)\n",
    "        stemmed = lemmatizer.lemmatize(t)\n",
    "        tokens.append(stemmed)\n",
    "    return ' '.join(tokens)"
   ]
  },
  {
   "cell_type": "code",
   "execution_count": null,
   "metadata": {
    "collapsed": true
   },
   "outputs": [],
   "source": []
  },
  {
   "cell_type": "code",
   "execution_count": 46,
   "metadata": {
    "collapsed": false
   },
   "outputs": [
    {
     "name": "stdout",
     "output_type": "stream",
     "text": [
      "Done\n"
     ]
    }
   ],
   "source": [
    "### Splitting the positive and negative words using the preprocessing method we have written.\n",
    "pos_data = []\n",
    "neg_data = []\n",
    "for p in pos['review']:\n",
    "    pos_data.append(preprocessing(p))\n",
    "\n",
    "for n in neg['review']:\n",
    "    neg_data.append(preprocessing(n))\n",
    "print(\"Done\")"
   ]
  },
  {
   "cell_type": "code",
   "execution_count": 47,
   "metadata": {
    "collapsed": false
   },
   "outputs": [],
   "source": [
    "### Concatenating the positive and negative data into a single array and also the labels corrosponding to them.\n",
    "data = pos_data + neg_data\n",
    "labels = np.concatenate((pos['rating'].values,neg['rating'].values))\n",
    "#print(labels)"
   ]
  },
  {
   "cell_type": "code",
   "execution_count": 48,
   "metadata": {
    "collapsed": true
   },
   "outputs": [],
   "source": [
    "### Splitting the training data set into training and validation datasets. (Pruning - with 75% - 25% Split of training data.)\n",
    "[Data_train,Data_test,Train_labels,Test_labels] = train_test_split(data,labels , test_size=0.25, random_state=20160121,stratify=labels)"
   ]
  },
  {
   "cell_type": "code",
   "execution_count": 49,
   "metadata": {
    "collapsed": false
   },
   "outputs": [],
   "source": [
    "### Tokenize the words in the given training data.\n",
    "t = []\n",
    "for line in data:\n",
    "    l = nltk.word_tokenize(line)\n",
    "    for w in l:\n",
    "        t.append(w)\n",
    "#print(t)"
   ]
  },
  {
   "cell_type": "code",
   "execution_count": 50,
   "metadata": {
    "collapsed": false
   },
   "outputs": [
    {
     "name": "stdout",
     "output_type": "stream",
     "text": [
      "55669\n"
     ]
    }
   ],
   "source": [
    "### Identifying the counts of the words.\n",
    "word_features = nltk.FreqDist(t)\n",
    "print(len(word_features))"
   ]
  },
  {
   "cell_type": "code",
   "execution_count": 51,
   "metadata": {
    "collapsed": false
   },
   "outputs": [
    {
     "name": "stdout",
     "output_type": "stream",
     "text": [
      "[('the', 611968), ('it', 399752), ('i', 375573), ('and', 365315), ('a', 340757), ('to', 334813), ('is', 205617), ('this', 178855), ('for', 173482), ('my', 147970), ('of', 146494), ('in', 144299), ('that', 121925), ('with', 100826), ('on', 100723), ('wa', 93101), ('but', 92952), ('have', 92851), ('we', 91151), ('t', 88530), ('so', 83602), ('not', 80912), ('s', 77136), ('you', 73961), ('baby', 70749)]\n"
     ]
    }
   ],
   "source": [
    "## Displaying what are the counts of the topwords .\n",
    "topwords = [fpair[0] for fpair in list(word_features.most_common(5000))]\n",
    "print(word_features.most_common(25))"
   ]
  },
  {
   "cell_type": "code",
   "execution_count": 52,
   "metadata": {
    "collapsed": false
   },
   "outputs": [],
   "source": [
    "## Checking what are the most common words used from the above.\n",
    "word_his = pd.DataFrame(word_features.most_common(200), columns = ['words','count'])\n",
    "#print(word_his)"
   ]
  },
  {
   "cell_type": "code",
   "execution_count": 53,
   "metadata": {
    "collapsed": true
   },
   "outputs": [],
   "source": [
    "### Count Vectorizer is used to convert the text into a matrix that contains the count of each word.\n",
    "vec = CountVectorizer()\n",
    "c_fit = vec.fit_transform([' '.join(topwords)])"
   ]
  },
  {
   "cell_type": "code",
   "execution_count": 54,
   "metadata": {
    "collapsed": false
   },
   "outputs": [],
   "source": [
    "### TFID Transformer is used for normalization of the above matrix we have formed using the topwords.\n",
    "tf_vec = TfidfTransformer()\n",
    "tf_fit = tf_vec.fit_transform(c_fit)"
   ]
  },
  {
   "cell_type": "code",
   "execution_count": 55,
   "metadata": {
    "collapsed": true
   },
   "outputs": [],
   "source": [
    "#### This step is used for forming the training features that we are going to give to our classification problem.\n",
    "ctr_features = vec.transform(data)\n",
    "tr_features = tf_vec.transform(ctr_features)"
   ]
  },
  {
   "cell_type": "code",
   "execution_count": 56,
   "metadata": {
    "collapsed": false
   },
   "outputs": [
    {
     "data": {
      "text/plain": [
       "(145927, 4967)"
      ]
     },
     "execution_count": 56,
     "metadata": {},
     "output_type": "execute_result"
    }
   ],
   "source": [
    "tr_features.shape"
   ]
  },
  {
   "cell_type": "code",
   "execution_count": 57,
   "metadata": {
    "collapsed": true
   },
   "outputs": [],
   "source": [
    "#cte_features = vec.transform(Data_test)\n",
    "#te_features = tf_vec.transform(cte_features)"
   ]
  },
  {
   "cell_type": "code",
   "execution_count": 58,
   "metadata": {
    "collapsed": false
   },
   "outputs": [
    {
     "name": "stdout",
     "output_type": "stream",
     "text": [
      "0.885243991859\n"
     ]
    }
   ],
   "source": [
    "### Decision Tree classifier for the given training features we have formed.\n",
    "### Prediction on the training dataset and accuracy calculation.\n",
    "### The maximum depth of the decision tree is considered to be 10 after lot of testing with many parameters.\n",
    "clf = DecisionTreeClassifier(max_depth= 10)\n",
    "clf = clf.fit(tr_features, labels)\n",
    "tfPredication = clf.predict(tr_features)\n",
    "tfAccuracy = metrics.accuracy_score(tfPredication,labels)\n",
    "print(tfAccuracy)"
   ]
  },
  {
   "cell_type": "code",
   "execution_count": 59,
   "metadata": {
    "collapsed": false
   },
   "outputs": [
    {
     "name": "stdout",
     "output_type": "stream",
     "text": [
      "             precision    recall  f1-score   support\n",
      "\n",
      "        neg       0.76      0.30      0.43     21089\n",
      "        pos       0.89      0.98      0.94    124838\n",
      "\n",
      "avg / total       0.87      0.89      0.86    145927\n",
      "\n"
     ]
    }
   ],
   "source": [
    "### Summary of various metrics.\n",
    "print(metrics.classification_report(labels, tfPredication))"
   ]
  },
  {
   "cell_type": "code",
   "execution_count": 60,
   "metadata": {
    "collapsed": true
   },
   "outputs": [],
   "source": [
    "#### Testing Dataset and its prediction following the above same procedure."
   ]
  },
  {
   "cell_type": "code",
   "execution_count": 61,
   "metadata": {
    "collapsed": false
   },
   "outputs": [
    {
     "data": {
      "text/plain": [
       "4.11421674849823"
      ]
     },
     "execution_count": 61,
     "metadata": {},
     "output_type": "execute_result"
    }
   ],
   "source": [
    "reviews = pd.read_csv('amazon_baby_test.csv')\n",
    "reviews.shape\n",
    "reviews = reviews.dropna()\n",
    "reviews.shape\n",
    "#print(reviews.head(25))\n",
    "\n",
    "scores = reviews['rating']\n",
    "reviews['rating'] = reviews['rating'].apply(lambda x: 'pos' if x >= 3 else 'neg')\n",
    "#print(reviews.head(25))\n",
    "\n",
    "\n",
    "scores.mean()"
   ]
  },
  {
   "cell_type": "code",
   "execution_count": 62,
   "metadata": {
    "collapsed": false
   },
   "outputs": [
    {
     "data": {
      "text/plain": [
       "rating\n",
       "neg     5272\n",
       "pos    31185\n",
       "Name: review, dtype: int64"
      ]
     },
     "execution_count": 62,
     "metadata": {},
     "output_type": "execute_result"
    }
   ],
   "source": [
    "reviews.groupby('rating')['review'].count()"
   ]
  },
  {
   "cell_type": "code",
   "execution_count": 63,
   "metadata": {
    "collapsed": false
   },
   "outputs": [
    {
     "data": {
      "text/plain": [
       "<matplotlib.axes._subplots.AxesSubplot at 0x20b3c515160>"
      ]
     },
     "execution_count": 63,
     "metadata": {},
     "output_type": "execute_result"
    },
    {
     "data": {
      "image/png": "[encoded data removed]",
      "text/plain": [
       "<matplotlib.figure.Figure at 0x20b3cc22a90>"
      ]
     },
     "metadata": {},
     "output_type": "display_data"
    }
   ],
   "source": [
    "reviews.groupby('rating')['review'].count().plot(kind='bar', color= ['r','g'],title='Label Distribution',  figsize = (10,6))"
   ]
  },
  {
   "cell_type": "code",
   "execution_count": 64,
   "metadata": {
    "collapsed": true
   },
   "outputs": [],
   "source": [
    "[pos,neg] = splitPosNeg(reviews)"
   ]
  },
  {
   "cell_type": "code",
   "execution_count": 65,
   "metadata": {
    "collapsed": false
   },
   "outputs": [
    {
     "name": "stdout",
     "output_type": "stream",
     "text": [
      "Done\n"
     ]
    }
   ],
   "source": [
    "pos_data = []\n",
    "neg_data = []\n",
    "for p in pos['review']:\n",
    "    pos_data.append(preprocessing(p))\n",
    "\n",
    "for n in neg['review']:\n",
    "    neg_data.append(preprocessing(n))\n",
    "print(\"Done\")"
   ]
  },
  {
   "cell_type": "code",
   "execution_count": 66,
   "metadata": {
    "collapsed": true
   },
   "outputs": [],
   "source": [
    "data = pos_data + neg_data\n",
    "labels = np.concatenate((pos['rating'].values,neg['rating'].values))\n",
    "#print(labels)"
   ]
  },
  {
   "cell_type": "code",
   "execution_count": 67,
   "metadata": {
    "collapsed": true
   },
   "outputs": [],
   "source": [
    "t = []\n",
    "for line in data:\n",
    "    l = nltk.word_tokenize(line)\n",
    "    for w in l:\n",
    "        t.append(w)\n",
    "#print(t)"
   ]
  },
  {
   "cell_type": "code",
   "execution_count": 68,
   "metadata": {
    "collapsed": false
   },
   "outputs": [
    {
     "name": "stdout",
     "output_type": "stream",
     "text": [
      "27948\n"
     ]
    }
   ],
   "source": [
    "word_features = nltk.FreqDist(t)\n",
    "print(len(word_features))"
   ]
  },
  {
   "cell_type": "code",
   "execution_count": 69,
   "metadata": {
    "collapsed": false
   },
   "outputs": [
    {
     "name": "stdout",
     "output_type": "stream",
     "text": [
      "[('the', 152974), ('it', 99372), ('i', 92497), ('and', 90756), ('a', 84853), ('to', 83074), ('is', 50976), ('this', 44481), ('for', 43016), ('of', 36412), ('my', 36323), ('in', 35975), ('that', 30261), ('on', 25113), ('with', 24842), ('wa', 23367), ('but', 23304), ('we', 22722), ('have', 22648), ('t', 21890), ('so', 20815), ('not', 20502), ('s', 19603), ('you', 18328), ('baby', 17687)]\n"
     ]
    }
   ],
   "source": [
    "topwords = [fpair[0] for fpair in list(word_features.most_common(5002))]\n",
    "print(word_features.most_common(25))"
   ]
  },
  {
   "cell_type": "code",
   "execution_count": 70,
   "metadata": {
    "collapsed": true
   },
   "outputs": [],
   "source": [
    "word_his = pd.DataFrame(word_features.most_common(200), columns = ['words','count'])\n",
    "#print(word_his)"
   ]
  },
  {
   "cell_type": "code",
   "execution_count": 71,
   "metadata": {
    "collapsed": false
   },
   "outputs": [
    {
     "data": {
      "text/plain": [
       "5002"
      ]
     },
     "execution_count": 71,
     "metadata": {},
     "output_type": "execute_result"
    }
   ],
   "source": [
    "len(topwords)"
   ]
  },
  {
   "cell_type": "code",
   "execution_count": 72,
   "metadata": {
    "collapsed": true
   },
   "outputs": [],
   "source": [
    "vec = CountVectorizer()\n",
    "c_fit = vec.fit_transform([' '.join(topwords)])"
   ]
  },
  {
   "cell_type": "code",
   "execution_count": 73,
   "metadata": {
    "collapsed": true
   },
   "outputs": [],
   "source": [
    "tf_vec = TfidfTransformer()\n",
    "tf_fit = tf_vec.fit_transform(c_fit)"
   ]
  },
  {
   "cell_type": "code",
   "execution_count": 74,
   "metadata": {
    "collapsed": true
   },
   "outputs": [],
   "source": [
    "cte_features = vec.transform(data)\n",
    "te_features = tf_vec.transform(cte_features)"
   ]
  },
  {
   "cell_type": "code",
   "execution_count": 75,
   "metadata": {
    "collapsed": false
   },
   "outputs": [
    {
     "data": {
      "text/plain": [
       "(36457, 4967)"
      ]
     },
     "execution_count": 75,
     "metadata": {},
     "output_type": "execute_result"
    }
   ],
   "source": [
    "te_features.shape"
   ]
  },
  {
   "cell_type": "code",
   "execution_count": 76,
   "metadata": {
    "collapsed": false
   },
   "outputs": [
    {
     "name": "stdout",
     "output_type": "stream",
     "text": [
      "0.839564418356\n"
     ]
    }
   ],
   "source": [
    "### Prediction of the Given Testing dataset and its accuracy.\n",
    "tePredication = clf.predict(te_features)\n",
    "teAccuracy = metrics.accuracy_score(tePredication,labels)\n",
    "print(teAccuracy)"
   ]
  },
  {
   "cell_type": "code",
   "execution_count": 77,
   "metadata": {
    "collapsed": false
   },
   "outputs": [
    {
     "name": "stdout",
     "output_type": "stream",
     "text": [
      "             precision    recall  f1-score   support\n",
      "\n",
      "        neg       0.24      0.05      0.08      5272\n",
      "        pos       0.86      0.97      0.91     31185\n",
      "\n",
      "avg / total       0.77      0.84      0.79     36457\n",
      "\n"
     ]
    }
   ],
   "source": [
    "print(metrics.classification_report(labels, tePredication))"
   ]
  },
  {
   "cell_type": "code",
   "execution_count": null,
   "metadata": {
    "collapsed": true
   },
   "outputs": [],
   "source": []
  }
 ],
 "metadata": {
  "anaconda-cloud": {},
  "kernelspec": {
   "display_name": "Python [default]",
   "language": "python",
   "name": "python3"
  },
  "language_info": {
   "codemirror_mode": {
    "name": "ipython",
    "version": 3
   },
   "file_extension": ".py",
   "mimetype": "text/x-python",
   "name": "python",
   "nbconvert_exporter": "python",
   "pygments_lexer": "ipython3",
   "version": "3.5.2"
  }
 },
 "nbformat": 4,
 "nbformat_minor": 1
}
